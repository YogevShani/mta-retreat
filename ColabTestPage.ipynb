{
  "nbformat": 4,
  "nbformat_minor": 0,
  "metadata": {
    "colab": {
      "provenance": []
    },
    "kernelspec": {
      "name": "python3",
      "display_name": "Python 3"
    },
    "language_info": {
      "name": "python"
    }
  },
  "cells": [
    {
      "cell_type": "markdown",
      "source": [
        "##Test Google Colab\n",
        "**Note**: If you are not logged in to Google, a login pop-up will appear.<br>\n",
        "Make sure you have your Google account **username** and **password** available.<br>\n",
        "Press on the black **triangle** below to test Google Colab"
      ],
      "metadata": {
        "id": "Go4zr5QWf4o8"
      }
    },
    {
      "cell_type": "code",
      "execution_count": 4,
      "metadata": {
        "colab": {
          "base_uri": "https://localhost:8080/"
        },
        "id": "vJ38WQKuf08I",
        "outputId": "b11e34f9-0908-4c8a-d4ca-9d5735f8f49b"
      },
      "outputs": [
        {
          "output_type": "stream",
          "name": "stdout",
          "text": [
            "Google Colab is working!\n",
            "Have a great day!\n"
          ]
        }
      ],
      "source": [
        "print(\"Google Colab is working!\\nHave a great day!\")"
      ]
    }
  ]
}