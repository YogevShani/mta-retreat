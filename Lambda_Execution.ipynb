{
  "nbformat": 4,
  "nbformat_minor": 0,
  "metadata": {
    "colab": {
      "provenance": []
    },
    "kernelspec": {
      "name": "python3",
      "display_name": "Python 3"
    },
    "language_info": {
      "name": "python"
    }
  },
  "cells": [
    {
      "cell_type": "markdown",
      "source": [
        "#**AWS Lambda execution**"
      ],
      "metadata": {
        "id": "cqqHj0MYPuZZ"
      }
    },
    {
      "cell_type": "code",
      "execution_count": null,
      "metadata": {
        "id": "z48RJT7dPnZc"
      },
      "outputs": [],
      "source": [
        "import requests\n",
        "\n",
        "lambda_url = \"https://uffncxfpofwtvlfueqls4bu2xu0ehvcl.lambda-url.us-east-1.on.aws/\"\n",
        "\n",
        "conversation_history = []\n",
        "\n",
        "while True:\n",
        "    try:\n",
        "        user_prompt = input(\"Enter your prompt (or 'exit' to quit): \")\n",
        "    except KeyboardInterrupt:\n",
        "        print(\"\\nThank You. \\nBye Bye...\")\n",
        "        break\n",
        "\n",
        "    if user_prompt.lower() == 'exit':\n",
        "        break\n",
        "\n",
        "    conversation_history.append({\"role\": \"user\", \"content\": user_prompt})\n",
        "\n",
        "    try:\n",
        "        response = requests.get(lambda_url, params={\"user_prompt\": user_prompt})\n",
        "        response.raise_for_status()\n",
        "        data = response.json()\n",
        "        ai_reply = data[\"ai_reply\"]\n",
        "    except requests.exceptions.RequestException as e:\n",
        "        print(f\"Error: {e}\")\n",
        "        continue\n",
        "\n",
        "    print(\"AI:\", ai_reply)\n",
        "    conversation_history.append({\"role\": \"assistant\", \"content\": ai_reply})"
      ]
    }
  ]
}