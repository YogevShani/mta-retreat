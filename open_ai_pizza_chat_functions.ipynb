{
  "nbformat": 4,
  "nbformat_minor": 0,
  "metadata": {
    "colab": {
      "provenance": [],
      "toc_visible": true
    },
    "kernelspec": {
      "name": "python3",
      "display_name": "Python 3"
    },
    "language_info": {
      "name": "python"
    }
  },
  "cells": [
    {
      "cell_type": "markdown",
      "source": [
        "**Installing OpenAI Package**\n",
        "To use the OpenAI API, we need to install the `openai` package. We can do this using the `pip` command."
      ],
      "metadata": {
        "id": "fuipf_KPLWP0"
      }
    },
    {
      "cell_type": "code",
      "execution_count": null,
      "metadata": {
        "id": "dmxRxLdYLBkt"
      },
      "outputs": [],
      "source": [
        "import subprocess\n",
        "import sys\n",
        "\n",
        "def install_openai():\n",
        "    subprocess.check_call([sys.executable, \"-m\", \"pip\", \"install\", \"openai\"])\n",
        "\n",
        "install_openai()"
      ]
    },
    {
      "cell_type": "markdown",
      "source": [
        "**OpenAI API & Functions**\n",
        "Pizza ordeing chat demo.\n",
        "Ex. Add another function and execue it during the chat."
      ],
      "metadata": {
        "id": "ccCEbZouLUqP"
      }
    },
    {
      "cell_type": "code",
      "source": [
        "import os\n",
        "import openai\n",
        "import json\n",
        "import sys\n",
        "\n",
        "key = \"OPEN-AI-KEY\"\n",
        "\n",
        "def place_order(name, size, take_away=False):\n",
        "    place = \"take away\" if take_away else \"eat in\"\n",
        "    print(\"\\033[31mplace_order function is executed: \\033[0m\", end=\"\")\n",
        "    print(f\"Placing order for {name} pizza, {size} to {place}\")\n",
        "\n",
        "\n",
        "def call_staff():\n",
        "    print(\"\\033[31mcall_staff function is executed: \\033[0m\", end=\"\")\n",
        "    print(\"Calling staff to table\")\n",
        "\n",
        "\n",
        "def get_chat(\n",
        "    openai_client, messages=None, model=\"gpt-4\", temperature=0.2, functions=None #3.5 will not work ok\n",
        "):\n",
        "    response = openai_client.chat.completions.create(\n",
        "        model=model,\n",
        "        messages=messages,\n",
        "        temperature=temperature,\n",
        "        functions=functions,\n",
        "    )\n",
        "    message = response.choices[0].message\n",
        "    if message.function_call:\n",
        "        f = globals()[message.function_call.name]\n",
        "        params = json.loads(message.function_call.arguments)\n",
        "        f(**params)\n",
        "    else:\n",
        "        print(\"\\033[94mPizza helper:\\033[0m\", message.content)\n",
        "\n",
        "\n",
        "    return message.function_call is not None\n",
        "\n",
        "\n",
        "def main():\n",
        "    functions = [\n",
        "        {\n",
        "            \"name\": \"place_order\",\n",
        "            \"description\": \"Place an order for a pizza\",\n",
        "            \"parameters\": {\n",
        "                \"type\": \"object\",\n",
        "                \"properties\": {\n",
        "                    \"name\": {\n",
        "                        \"type\": \"string\",\n",
        "                        \"description\": \"The name of the pizza, e.g. Pepperoni\",\n",
        "                    },\n",
        "                    \"size\": {\n",
        "                        \"type\": \"string\",\n",
        "                        \"enum\": [\"small\", \"medium\", \"large\"],\n",
        "                        \"description\": \"The size of the pizza. Always ask for clarification if not specified.\",\n",
        "                    },\n",
        "                    \"take_away\": {\n",
        "                        \"type\": \"boolean\",\n",
        "                        \"description\": \"Whether the pizza is taken away. Assume false if not specified.\",\n",
        "                    },\n",
        "                },\n",
        "                \"required\": [\"name\", \"size\", \"take_away\"],\n",
        "            },\n",
        "        },\n",
        "        {\n",
        "            \"name\": \"call_staff\",\n",
        "            \"description\": \"Call a member of staff to the table\",\n",
        "            \"parameters\": {\"type\": \"object\", \"properties\": {}},\n",
        "        },\n",
        "    ]\n",
        "\n",
        "    messages = [\n",
        "        {\n",
        "            \"role\": \"system\",\n",
        "            \"content\": \"Don't make assumptions about what values to put into functions. \"\n",
        "            + \"Ask for clarification if you need to.\",\n",
        "        }\n",
        "    ]\n",
        "\n",
        "    function_called = False\n",
        "    openai_client = openai.OpenAI(\n",
        "        api_key=key)\n",
        "\n",
        "    print(\"\\033[94mPizza helper:\\033[0m\", \"How may I help you? Would you like a pizza?\")\n",
        "\n",
        "    try:\n",
        "        while not function_called:\n",
        "            user_input = input(\"You: \")\n",
        "            messages.append({\"role\": \"user\", \"content\": user_input})\n",
        "            function_called = get_chat(\n",
        "                openai_client, messages=messages, functions=functions\n",
        "            )\n",
        "    except KeyboardInterrupt:\n",
        "        print(\"\\n\\033[94mPizza helper:\\033[0m\", \"Thank you. Bye Bye\")\n",
        "\n",
        "\n",
        "if __name__ == \"__main__\":\n",
        "    main()"
      ],
      "metadata": {
        "id": "ZOxud7wNMb24"
      },
      "execution_count": null,
      "outputs": []
    }
  ]
}