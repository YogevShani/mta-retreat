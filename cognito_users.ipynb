{
  "nbformat": 4,
  "nbformat_minor": 0,
  "metadata": {
    "colab": {
      "provenance": []
    },
    "kernelspec": {
      "name": "python3",
      "display_name": "Python 3"
    },
    "language_info": {
      "name": "python"
    }
  },
  "cells": [
    {
      "cell_type": "markdown",
      "source": [
        "#**Installing boto3 Package**\n",
        "To use the AWS SDK in python, we need to install the `boto3` package. We can do this using the `pip` command."
      ],
      "metadata": {
        "id": "g-yp0DFD_Z5M"
      }
    },
    {
      "cell_type": "code",
      "source": [
        "import subprocess\n",
        "import sys\n",
        "\n",
        "def install_boto3():\n",
        "    subprocess.check_call([sys.executable, \"-m\", \"pip\", \"install\", \"boto3\"])\n",
        "\n",
        "# Call the function to install boto3\n",
        "install_boto3()"
      ],
      "metadata": {
        "id": "LL00WZgF_WBt"
      },
      "execution_count": 1,
      "outputs": []
    },
    {
      "cell_type": "markdown",
      "source": [
        "#**Coding our Cognito functions**\n",
        "Adding our 3 functions to sign up a user, confirming a user and sign in a user"
      ],
      "metadata": {
        "id": "DnwaBH0e_9B_"
      }
    },
    {
      "cell_type": "code",
      "execution_count": 2,
      "metadata": {
        "id": "zgQAn9pLgRvu"
      },
      "outputs": [],
      "source": [
        "import boto3\n",
        "import hmac\n",
        "import hashlib\n",
        "import base64\n",
        "\n",
        "# Configuration\n",
        "client_id = '2md7b64jhoaqoo59rafb7isi05'  # Replace with your App Client ID\n",
        "client_secret = '1dli7gr2ljjufo5ohi56ef048hogs1596kh8plmndvbnv86nreqj'  # Replace with your App Client Secret\n",
        "region_name = 'us-east-1'\n",
        "\n",
        "# Function to calculate SECRET_HASH\n",
        "def calculate_secret_hash(client_id, client_secret, username):\n",
        "    message = username + client_id\n",
        "    dig = hmac.new(client_secret.encode('utf-8'), message.encode('utf-8'), hashlib.sha256).digest()\n",
        "    return base64.b64encode(dig).decode('utf-8')\n",
        "\n",
        "# Function to sign up a user\n",
        "def sign_up_user(username, password, email):\n",
        "    client = boto3.client('cognito-idp', region_name=region_name)\n",
        "    try:\n",
        "        response = client.sign_up(\n",
        "            ClientId=client_id,\n",
        "            Username=username,\n",
        "            Password=password,\n",
        "            UserAttributes=[\n",
        "                {'Name': 'email', 'Value': email}\n",
        "            ],\n",
        "            SecretHash=calculate_secret_hash(client_id, client_secret, username)\n",
        "        )\n",
        "        print(\"User signed up successfully:\", response)\n",
        "    except Exception as e:\n",
        "        print(\"Error during sign up:\", e)\n",
        "\n",
        "# Function to sign in a user\n",
        "def sign_in_user(username, password):\n",
        "    client = boto3.client('cognito-idp', region_name=region_name)\n",
        "    try:\n",
        "        response = client.initiate_auth(\n",
        "            ClientId=client_id,\n",
        "            AuthFlow='USER_PASSWORD_AUTH',\n",
        "            AuthParameters={\n",
        "                'USERNAME': username,\n",
        "                'PASSWORD': password,\n",
        "                'SECRET_HASH': calculate_secret_hash(client_id, client_secret, username)\n",
        "            }\n",
        "        )\n",
        "        print(\"User signed in successfully:\", response)\n",
        "    except Exception as e:\n",
        "        print(\"Error during sign in:\", e)\n",
        "\n",
        "def confirm_sign_up(username, confirmation_code):\n",
        "    client = boto3.client('cognito-idp', region_name=region_name)\n",
        "    try:\n",
        "        response = client.confirm_sign_up(\n",
        "            ClientId=client_id,\n",
        "            Username=username,\n",
        "            ConfirmationCode=confirmation_code,\n",
        "            SecretHash=calculate_secret_hash(client_id, client_secret, username)\n",
        "        )\n",
        "        print(\"User confirmed successfully:\", response)\n",
        "    except Exception as e:\n",
        "        print(\"Error during confirmation:\", e)\n",
        "\n"
      ]
    },
    {
      "cell_type": "markdown",
      "source": [
        "#**Update user username, password and email**\n",
        "Make sure to update valid username, password and email"
      ],
      "metadata": {
        "id": "xafYrnLDAaii"
      }
    },
    {
      "cell_type": "code",
      "source": [
        "# login details\n",
        "username = 'yogevsh@mta.ac.il'\n",
        "password = 'StrongPassword123!'\n",
        "email = 'yogevsh@mta.ac.il'"
      ],
      "metadata": {
        "id": "KUNrJFm5AVL7"
      },
      "execution_count": null,
      "outputs": []
    },
    {
      "cell_type": "markdown",
      "source": [
        "#**Sign up your user**"
      ],
      "metadata": {
        "id": "X_AcoSuwAl0W"
      }
    },
    {
      "cell_type": "code",
      "source": [
        "sign_up_user(username, password, email)"
      ],
      "metadata": {
        "id": "YUeu61DGhN4n"
      },
      "execution_count": null,
      "outputs": []
    },
    {
      "cell_type": "markdown",
      "source": [
        "#**Confirm your email**\n",
        "Check your inbox for a mail from no-reply@verificationemail.com, with the subject 'Your verification code'. <br> Update the confirmation code from the mail below before running.\n"
      ],
      "metadata": {
        "id": "2oIXZBvtAqDe"
      }
    },
    {
      "cell_type": "code",
      "source": [
        "confirmation_code = '12345'  # Replace with the actual confirmation code received via email\n",
        "confirm_sign_up(username, confirmation_code)"
      ],
      "metadata": {
        "id": "1PDO4kkahSr9"
      },
      "execution_count": null,
      "outputs": []
    },
    {
      "cell_type": "markdown",
      "source": [
        "#**Sign in your user**"
      ],
      "metadata": {
        "id": "p5AKn8LMBJIN"
      }
    },
    {
      "cell_type": "code",
      "source": [
        "sign_in_user(username, password)"
      ],
      "metadata": {
        "id": "RGU84Tw7hWpj"
      },
      "execution_count": null,
      "outputs": []
    }
  ]
}