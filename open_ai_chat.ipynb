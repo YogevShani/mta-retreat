{
  "cells": [
    {
      "cell_type": "markdown",
      "metadata": {
        "id": "fuipf_KPLWP0"
      },
      "source": [
        "#**Installing OpenAI Package**\n",
        "To use the OpenAI API, we need to install the `openai` package. We can do this using the `pip` command."
      ]
    },
    {
      "cell_type": "code",
      "execution_count": null,
      "metadata": {
        "id": "dmxRxLdYLBkt"
      },
      "outputs": [],
      "source": [
        "import subprocess\n",
        "import sys\n",
        "\n",
        "def install_openai():\n",
        "    subprocess.check_call([sys.executable, \"-m\", \"pip\", \"install\", \"openai\"])\n",
        "\n",
        "install_openai()"
      ]
    },
    {
      "cell_type": "markdown",
      "metadata": {
        "id": "ccCEbZouLUqP"
      },
      "source": [
        "#**Interactive Chatbot Using OpenAI API**"
      ]
    },
    {
      "cell_type": "code",
      "execution_count": null,
      "metadata": {
        "colab": {
          "background_save": true
        },
        "id": "ZOxud7wNMb24"
      },
      "outputs": [],
      "source": [
        "\n",
        "from openai import OpenAI\n",
        "\n",
        "key = \"OPEN-AI-KEY\"\n",
        "\n",
        "client = OpenAI(\n",
        "    api_key=key)\n",
        "\n",
        "conversation_history = [\n",
        "    {\"role\": \"system\", \"content\": \"You are an assistant that talks to a 15 yo and you should speak the same\"},\n",
        "    {\"role\": \"user\", \"content\": \"Should I use goto statements?\"},\n",
        "    {\"role\": \"assistant\", \"content\": \"No bro, that's bad practice duh 🤨\"}]\n",
        "\n",
        "try:\n",
        "    while True:\n",
        "        user_prompt = input(\"Enter your prompt (or 'exit' to quit): \")\n",
        "        if user_prompt.lower() == 'exit':\n",
        "            break\n",
        "\n",
        "        conversation_history.append({\"role\": \"user\", \"content\": user_prompt})\n",
        "\n",
        "        chat_completion = client.chat.completions.create(\n",
        "            messages=conversation_history,\n",
        "            model=\"gpt-3.5-turbo\",\n",
        "            temperature=0.1,\n",
        "            max_tokens=50  # Limit the number of tokens in the reply\n",
        "        )\n",
        "\n",
        "        ai_reply = chat_completion.choices[0].message.content\n",
        "        print(\"\\033[94mAI:\\033[0m\", ai_reply)\n",
        "\n",
        "        conversation_history.append({\"role\": \"assistant\", \"content\": ai_reply})\n",
        "except KeyboardInterrupt as ki:\n",
        "    print(\"\\nThank You. \\nBye Bye...\")\n"
      ]
    }
  ],
  "metadata": {
    "colab": {
      "toc_visible": true,
      "provenance": []
    },
    "kernelspec": {
      "display_name": "Python 3",
      "name": "python3"
    },
    "language_info": {
      "name": "python"
    }
  },
  "nbformat": 4,
  "nbformat_minor": 0
}