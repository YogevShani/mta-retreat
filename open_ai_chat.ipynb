{
  "nbformat": 4,
  "nbformat_minor": 0,
  "metadata": {
    "colab": {
      "provenance": [],
      "toc_visible": true
    },
    "kernelspec": {
      "name": "python3",
      "display_name": "Python 3"
    },
    "language_info": {
      "name": "python"
    }
  },
  "cells": [
    {
      "cell_type": "markdown",
      "source": [
        "#**Installing OpenAI Package**\n",
        "To use the OpenAI API, we need to install the `openai` package. We can do this using the `pip` command."
      ],
      "metadata": {
        "id": "fuipf_KPLWP0"
      }
    },
    {
      "cell_type": "code",
      "execution_count": null,
      "metadata": {
        "id": "dmxRxLdYLBkt"
      },
      "outputs": [],
      "source": [
        "import subprocess\n",
        "import sys\n",
        "\n",
        "def install_openai():\n",
        "    subprocess.check_call([sys.executable, \"-m\", \"pip\", \"install\", \"openai\"])\n",
        "\n",
        "install_openai()"
      ]
    },
    {
      "cell_type": "markdown",
      "source": [
        "#**Interactive Chatbot Using OpenAI API**"
      ],
      "metadata": {
        "id": "ccCEbZouLUqP"
      }
    },
    {
      "cell_type": "code",
      "source": [
        "\n",
        "from openai import OpenAI\n",
        "\n",
        "client = OpenAI(\n",
        "    api_key=\"<OPEN-AI-TOKEN>\")\n",
        "\n",
        "conversation_history = [\n",
        "    {\"role\": \"system\", \"content\": \"You are an assistant that talks to a 15 yo and you should speak the same\"},\n",
        "    {\"role\": \"user\", \"content\": \"Should I use goto statements?\"},\n",
        "    {\"role\": \"assistant\", \"content\": \"No bro, that's bad practice duh 🤨\"}]\n",
        "\n",
        "try:\n",
        "    while True:\n",
        "        user_prompt = input(\"Enter your prompt (or 'exit' to quit): \")\n",
        "        if user_prompt.lower() == 'exit':\n",
        "            break\n",
        "\n",
        "        conversation_history.append({\"role\": \"user\", \"content\": user_prompt})\n",
        "\n",
        "        chat_completion = client.chat.completions.create(\n",
        "            messages=conversation_history,\n",
        "            model=\"gpt-3.5-turbo\",\n",
        "            temperature=0.1,\n",
        "            max_tokens=50  # Limit the number of tokens in the reply\n",
        "        )\n",
        "\n",
        "        ai_reply = chat_completion.choices[0].message.content\n",
        "        print(\"\\033[94mAI:\\033[0m\", ai_reply)\n",
        "\n",
        "        conversation_history.append({\"role\": \"assistant\", \"content\": ai_reply})\n",
        "except KeyboardInterrupt as ki:\n",
        "    print(\"\\nThank You. \\nBye Bye...\")\n"
      ],
      "metadata": {
        "colab": {
          "base_uri": "https://localhost:8080/"
        },
        "id": "ZOxud7wNMb24",
        "outputId": "0f53aefd-fa28-43c3-fee8-52a6861a3a75"
      },
      "execution_count": null,
      "outputs": [
        {
          "output_type": "stream",
          "name": "stdout",
          "text": [
            ""
          ]
        }
      ]
    }
  ]
}
